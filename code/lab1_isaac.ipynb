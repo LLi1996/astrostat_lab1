{
 "cells": [
  {
   "cell_type": "code",
   "execution_count": 5,
   "metadata": {
    "collapsed": true
   },
   "outputs": [],
   "source": [
    "import numpy as np\n",
    "import matplotlib.pyplot as plt"
   ]
  },
  {
   "cell_type": "code",
   "execution_count": 6,
   "metadata": {},
   "outputs": [],
   "source": [
    "#import data into separate columns\n",
    "input = '../data/data.dat'\n",
    "distance, error, velocity = np.loadtxt(input, usecols = (0,1,2), unpack = True, skiprows=7, delimiter='\\t')"
   ]
  },
  {
   "cell_type": "code",
   "execution_count": 7,
   "metadata": {},
   "outputs": [
    {
     "data": {
      "image/png": "[encoded data removed]",
      "text/plain": [
       "<matplotlib.figure.Figure at 0x25034186128>"
      ]
     },
     "metadata": {},
     "output_type": "display_data"
    }
   ],
   "source": [
    "#initial plot\n",
    "%matplotlib inline\n",
    "plt.errorbar(velocity, distance, yerr=error, fmt='bo', capsize=2, elinewidth=1, markersize=5)\n",
    "plt.show()"
   ]
  },
  {
   "cell_type": "code",
   "execution_count": 8,
   "metadata": {},
   "outputs": [
    {
     "name": "stdout",
     "output_type": "stream",
     "text": [
      "[ 0.01535263  5.16280981]\n"
     ]
    }
   ],
   "source": [
    "fit = np.polyfit(velocity, distance, deg=1)\n",
    "\n",
    "#check\n",
    "print(fit)"
   ]
  },
  {
   "cell_type": "code",
   "execution_count": 60,
   "metadata": {},
   "outputs": [
    {
     "data": {
      "image/png": "[encoded data removed]",
      "text/plain": [
       "<matplotlib.figure.Figure at 0x250357017b8>"
      ]
     },
     "metadata": {},
     "output_type": "display_data"
    }
   ],
   "source": [
    "#plot data with polyfit line\n",
    "\n",
    "bestfit = fit[1]+fit[0]*velocity\n",
    "\n",
    "%matplotlib inline\n",
    "plt.errorbar(velocity, distance, yerr=error, fmt='bo', capsize=2, elinewidth=1, markersize=5)\n",
    "plt.plot(velocity, bestfit, 'c--')\n",
    "plt.show()"
   ]
  },
  {
   "cell_type": "code",
   "execution_count": 20,
   "metadata": {
    "collapsed": true
   },
   "outputs": [
    {
     "name": "stdout",
     "output_type": "stream",
     "text": [
      "[ -7.13599901   0.82068841  -1.89633583  -7.65010859 -11.32062988\n",
      "   4.56875641  -5.40599783  -3.64878912 -11.12740855  -9.11587446\n",
      " -12.24593556  -4.28072113   6.02406444   0.7570402   -4.51603712\n",
      "  11.64424891  16.90167225  -6.6477545  -28.12648581  11.18133543\n",
      "  15.37157068  -9.84744666 -11.19892879   3.53015083  23.84693982\n",
      "   4.37774832 -21.24492991  16.71591788  16.48311627 -16.01748595\n",
      "  42.47545769  20.70822    -40.71605223 -13.08919183  38.75320036\n",
      "  -7.91552977   3.44328563  -4.455771  ]\n"
     ]
    }
   ],
   "source": [
    "residuals = distance-bestfit\n",
    "print(residuals)"
   ]
  },
  {
   "cell_type": "code",
   "execution_count": 59,
   "metadata": {},
   "outputs": [
    {
     "data": {
      "image/png": "[encoded data removed]",
      "text/plain": [
       "<matplotlib.figure.Figure at 0x250341fd160>"
      ]
     },
     "metadata": {},
     "output_type": "display_data"
    }
   ],
   "source": [
    "%matplotlib inline\n",
    "plt.hist(residuals)\n",
    "plt.show()"
   ]
  },
  {
   "cell_type": "code",
   "execution_count": 38,
   "metadata": {
    "collapsed": true
   },
   "outputs": [],
   "source": [
    "#is this distribution gaussian?\n",
    "#f(x,mu,sigma) = (1/(sigma*sqrt(2pi)))*e^((x-mu)^2/(2*sigma^2))\n",
    "#mu = mean; sigma = stdev"
   ]
  },
  {
   "cell_type": "code",
   "execution_count": 39,
   "metadata": {
    "collapsed": true
   },
   "outputs": [],
   "source": [
    "sigma = np.std(residuals)\n",
    "mu = np.mean(residuals)\n",
    "x = np.arange(-40,40)"
   ]
  },
  {
   "cell_type": "code",
   "execution_count": 42,
   "metadata": {
    "collapsed": true
   },
   "outputs": [
    {
     "name": "stdout",
     "output_type": "stream",
     "text": [
      "16.2995080336 4.93640216423e-14 \n",
      "\n",
      "\n",
      "[-40 -39 -38 -37 -36 -35 -34 -33 -32 -31 -30 -29 -28 -27 -26 -25 -24 -23\n",
      " -22 -21 -20 -19 -18 -17 -16 -15 -14 -13 -12 -11 -10  -9  -8  -7  -6  -5\n",
      "  -4  -3  -2  -1   0   1   2   3   4   5   6   7   8   9  10  11  12  13\n",
      "  14  15  16  17  18  19  20  21  22  23  24  25  26  27  28  29  30  31\n",
      "  32  33  34  35  36  37  38  39]\n"
     ]
    }
   ],
   "source": [
    "#check\n",
    "print(sigma, mu, 2*'\\n')\n",
    "print(x)"
   ]
  },
  {
   "cell_type": "code",
   "execution_count": 43,
   "metadata": {},
   "outputs": [],
   "source": [
    "def Gaussian(x, mu, sigma):\n",
    "    \"\"\"models a normal Gaussian distribution with mean mu,\n",
    "    standard deviation sigma, and domain x\"\"\"\n",
    "    \n",
    "    f1 = (1/(sigma*np.sqrt(2*np.pi)))\n",
    "    f2 = np.power(np.e, -np.power(x-mu, 2)/(2*np.power(sigma, 2)))\n",
    "    \n",
    "    values = f1*f2\n",
    "    \n",
    "    return values\n",
    "    \n",
    "    "
   ]
  },
  {
   "cell_type": "code",
   "execution_count": 56,
   "metadata": {
    "collapsed": true
   },
   "outputs": [
    {
     "name": "stdout",
     "output_type": "stream",
     "text": [
      "[ 0.48199643  0.5592604   0.64647185  0.74447562  0.8541156   0.97622098\n",
      "  1.11159077  1.26097662  1.42506426  1.60445364  1.79963822  2.01098372\n",
      "  2.23870675  2.48285396  2.74328199  3.01963909  3.31134885  3.61759665\n",
      "  3.93731952  4.26919988  4.61166367  4.96288344  5.32078651  5.68306866\n",
      "  6.04721324  6.41051577  6.77011386  7.12302197  7.46617052  7.79644888\n",
      "  8.11075116  8.40602407  8.67931581  8.9278249   9.14894774  9.34032397\n",
      "  9.49987834  9.62585815  9.71686528  9.77188204  9.7902901   9.77188204\n",
      "  9.71686528  9.62585815  9.49987834  9.34032397  9.14894774  8.9278249\n",
      "  8.67931581  8.40602407  8.11075116  7.79644888  7.46617052  7.12302197\n",
      "  6.77011386  6.41051577  6.04721324  5.68306866  5.32078651  4.96288344\n",
      "  4.61166367  4.26919988  3.93731952  3.61759665  3.31134885  3.01963909\n",
      "  2.74328199  2.48285396  2.23870675  2.01098372  1.79963822  1.60445364\n",
      "  1.42506426  1.26097662  1.11159077  0.97622098  0.8541156   0.74447562\n",
      "  0.64647185  0.5592604 ]\n"
     ]
    }
   ],
   "source": [
    "gaussianFit = 400*Gaussian(x, mu, sigma)\n",
    "print(gaussianFit)"
   ]
  },
  {
   "cell_type": "code",
   "execution_count": 62,
   "metadata": {},
   "outputs": [
    {
     "data": {
      "image/png": "[encoded data removed]",
      "text/plain": [
       "<matplotlib.figure.Figure at 0x250341fa160>"
      ]
     },
     "metadata": {},
     "output_type": "display_data"
    }
   ],
   "source": [
    "%matplotlib inline\n",
    "plt.plot(x, gaussianFit)\n",
    "plt.hist(residuals)\n",
    "plt.show()"
   ]
  },
  {
   "cell_type": "code",
   "execution_count": null,
   "metadata": {
    "collapsed": true
   },
   "outputs": [],
   "source": []
  }
 ],
 "metadata": {
  "kernelspec": {
   "display_name": "Python [conda root]",
   "language": "python",
   "name": "conda-root-py"
  },
  "language_info": {
   "codemirror_mode": {
    "name": "ipython",
    "version": 3
   },
   "file_extension": ".py",
   "mimetype": "text/x-python",
   "name": "python",
   "nbconvert_exporter": "python",
   "pygments_lexer": "ipython3",
   "version": "3.5.3"
  }
 },
 "nbformat": 4,
 "nbformat_minor": 2
}
